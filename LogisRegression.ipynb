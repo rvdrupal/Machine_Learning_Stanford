{
  "nbformat": 4,
  "nbformat_minor": 0,
  "metadata": {
    "colab": {
      "name": "LogisRegression.ipynb",
      "provenance": [],
      "collapsed_sections": [],
      "include_colab_link": true
    },
    "kernelspec": {
      "name": "python3",
      "display_name": "Python 3"
    }
  },
  "cells": [
    {
      "cell_type": "markdown",
      "metadata": {
        "id": "view-in-github",
        "colab_type": "text"
      },
      "source": [
        "<a href=\"https://colab.research.google.com/github/rvdrupal/Machine_Learning_Stanford/blob/master/LogisRegression.ipynb\" target=\"_parent\"><img src=\"https://colab.research.google.com/assets/colab-badge.svg\" alt=\"Open In Colab\"/></a>"
      ]
    },
    {
      "cell_type": "code",
      "metadata": {
        "id": "iMMdo2P08zTL",
        "colab_type": "code",
        "colab": {}
      },
      "source": [
        "import numpy as np \n",
        "import pandas as pd\n",
        "from sklearn.linear_model import LogisticRegression\n",
        "from sklearn.model_selection import train_test_split\n",
        "import matplotlib.pyplot as plt\n",
        "import seaborn as sns\n",
        "from sklearn import metrics\n"
      ],
      "execution_count": 0,
      "outputs": []
    },
    {
      "cell_type": "markdown",
      "metadata": {
        "id": "VgRoL4AJiQNf",
        "colab_type": "text"
      },
      "source": [
        "you can also import file from sysytem"
      ]
    },
    {
      "cell_type": "code",
      "metadata": {
        "id": "Yj7XQI7g-TpB",
        "colab_type": "code",
        "outputId": "5c2ae7f0-3906-477d-f525-c783e3a42830",
        "colab": {
          "base_uri": "https://localhost:8080/",
          "height": 54
        }
      },
      "source": [
        "\"\"\"\n",
        "from google.colab import files\n",
        "\n",
        "uploaded = files.upload()\n",
        "\n",
        "for fn in uploaded.keys():\n",
        "  print('User uploaded file \"{name}\" with length {length} bytes'.format(\n",
        "      name=fn, length=len(uploaded[fn])))\n",
        "  \"\"\""
      ],
      "execution_count": 191,
      "outputs": [
        {
          "output_type": "execute_result",
          "data": {
            "text/plain": [
              "'\\nfrom google.colab import files\\n\\nuploaded = files.upload()\\n\\nfor fn in uploaded.keys():\\n  print(\\'User uploaded file \"{name}\" with length {length} bytes\\'.format(\\n      name=fn, length=len(uploaded[fn])))\\n  '"
            ]
          },
          "metadata": {
            "tags": []
          },
          "execution_count": 191
        }
      ]
    },
    {
      "cell_type": "code",
      "metadata": {
        "id": "6DcT07D6-85P",
        "colab_type": "code",
        "colab": {}
      },
      "source": [
        "train=pd.read_csv(\"Training Data.csv\")\n"
      ],
      "execution_count": 0,
      "outputs": []
    },
    {
      "cell_type": "markdown",
      "metadata": {
        "id": "m6xtJj7BWDxG",
        "colab_type": "text"
      },
      "source": [
        "Lets Check for the null value."
      ]
    },
    {
      "cell_type": "code",
      "metadata": {
        "id": "FDAO4ZlXAoTB",
        "colab_type": "code",
        "outputId": "66cd3b83-3d6f-4da5-aa80-0b8b23e54c11",
        "colab": {
          "base_uri": "https://localhost:8080/",
          "height": 221
        }
      },
      "source": [
        "train.isnull().sum()"
      ],
      "execution_count": 193,
      "outputs": [
        {
          "output_type": "execute_result",
          "data": {
            "text/plain": [
              "patient_id             0\n",
              "Age                    0\n",
              "Gender                 0\n",
              "Prescription_period    0\n",
              "Diabetes               0\n",
              "Alcoholism             0\n",
              "HyperTension           0\n",
              "Smokes                 0\n",
              "Tuberculosis           0\n",
              "Sms_Reminder           0\n",
              "Adherence              0\n",
              "dtype: int64"
            ]
          },
          "metadata": {
            "tags": []
          },
          "execution_count": 193
        }
      ]
    },
    {
      "cell_type": "code",
      "metadata": {
        "id": "Ckikj-kXWxS4",
        "colab_type": "code",
        "outputId": "b49a22aa-fcc5-483e-9291-886d2a31f3e9",
        "colab": {
          "base_uri": "https://localhost:8080/",
          "height": 279
        }
      },
      "source": [
        "train.Adherence.value_counts()\n",
        "sns.countplot(x='Adherence',data=train)\n",
        "plt.show()"
      ],
      "execution_count": 194,
      "outputs": [
        {
          "output_type": "display_data",
          "data": {
            "image/png": "[encoded data removed]",
            "text/plain": [
              "<Figure size 432x288 with 1 Axes>"
            ]
          },
          "metadata": {
            "tags": []
          }
        }
      ]
    },
    {
      "cell_type": "markdown",
      "metadata": {
        "id": "yWE5k3m5cS2-",
        "colab_type": "text"
      },
      "source": [
        "Replacing Gender with integer values"
      ]
    },
    {
      "cell_type": "code",
      "metadata": {
        "id": "iatCxqvbYDRc",
        "colab_type": "code",
        "outputId": "f5156d53-8433-4255-ea18-9c92dadd4356",
        "colab": {
          "base_uri": "https://localhost:8080/",
          "height": 187
        }
      },
      "source": [
        "train.Gender[train.Gender=='M']=1\n",
        "train.Gender[train.Gender=='F']=2"
      ],
      "execution_count": 195,
      "outputs": [
        {
          "output_type": "stream",
          "text": [
            "/usr/local/lib/python3.6/dist-packages/ipykernel_launcher.py:1: SettingWithCopyWarning: \n",
            "A value is trying to be set on a copy of a slice from a DataFrame\n",
            "\n",
            "See the caveats in the documentation: http://pandas.pydata.org/pandas-docs/stable/user_guide/indexing.html#returning-a-view-versus-a-copy\n",
            "  \"\"\"Entry point for launching an IPython kernel.\n",
            "/usr/local/lib/python3.6/dist-packages/ipykernel_launcher.py:2: SettingWithCopyWarning: \n",
            "A value is trying to be set on a copy of a slice from a DataFrame\n",
            "\n",
            "See the caveats in the documentation: http://pandas.pydata.org/pandas-docs/stable/user_guide/indexing.html#returning-a-view-versus-a-copy\n",
            "  \n"
          ],
          "name": "stderr"
        }
      ]
    },
    {
      "cell_type": "markdown",
      "metadata": {
        "id": "83q9mqZUfJqD",
        "colab_type": "text"
      },
      "source": [
        "cha"
      ]
    },
    {
      "cell_type": "markdown",
      "metadata": {
        "id": "nGpGuElNfKCP",
        "colab_type": "text"
      },
      "source": [
        "Changinng Adherence to 0 for No and 1 for Yes"
      ]
    },
    {
      "cell_type": "code",
      "metadata": {
        "id": "dYkrmtA7XwqQ",
        "colab_type": "code",
        "outputId": "85a661e5-9244-435f-ba32-d5f07b32c6b0",
        "colab": {
          "base_uri": "https://localhost:8080/",
          "height": 187
        }
      },
      "source": [
        "train.Adherence[train.Adherence=='No']=0\n",
        "train.Adherence[train.Adherence=='Yes']=1\n"
      ],
      "execution_count": 196,
      "outputs": [
        {
          "output_type": "stream",
          "text": [
            "/usr/local/lib/python3.6/dist-packages/ipykernel_launcher.py:1: SettingWithCopyWarning: \n",
            "A value is trying to be set on a copy of a slice from a DataFrame\n",
            "\n",
            "See the caveats in the documentation: http://pandas.pydata.org/pandas-docs/stable/user_guide/indexing.html#returning-a-view-versus-a-copy\n",
            "  \"\"\"Entry point for launching an IPython kernel.\n",
            "/usr/local/lib/python3.6/dist-packages/ipykernel_launcher.py:2: SettingWithCopyWarning: \n",
            "A value is trying to be set on a copy of a slice from a DataFrame\n",
            "\n",
            "See the caveats in the documentation: http://pandas.pydata.org/pandas-docs/stable/user_guide/indexing.html#returning-a-view-versus-a-copy\n",
            "  \n"
          ],
          "name": "stderr"
        }
      ]
    },
    {
      "cell_type": "code",
      "metadata": {
        "id": "UmwTlbKaezJR",
        "colab_type": "code",
        "colab": {}
      },
      "source": [
        "X=train[['Age','Gender','Prescription_period','Diabetes','Alcoholism','HyperTension','Smokes','Tuberculosis','Sms_Reminder']]\n",
        "y=train[['Adherence']].astype('int')"
      ],
      "execution_count": 0,
      "outputs": []
    },
    {
      "cell_type": "markdown",
      "metadata": {
        "id": "-7OwVGIbh8Ek",
        "colab_type": "text"
      },
      "source": [
        "Spliting Data into train and validation (67%,33%) respectively"
      ]
    },
    {
      "cell_type": "code",
      "metadata": {
        "id": "b4iYF2EsdUvR",
        "colab_type": "code",
        "colab": {}
      },
      "source": [
        "\n",
        "X_train,X_test,y_train,y_test=train_test_split(X,y,test_size=0.33, random_state=42)"
      ],
      "execution_count": 0,
      "outputs": []
    },
    {
      "cell_type": "code",
      "metadata": {
        "id": "U6zFISRRgAYc",
        "colab_type": "code",
        "outputId": "a3f8b898-bfd7-4adc-bd93-7e4f87373a6c",
        "colab": {
          "base_uri": "https://localhost:8080/",
          "height": 51
        }
      },
      "source": [
        "print(\"Size of Train Data\",np.size(X_train))\n",
        "print(\"Size of Test Data\",np.size(X_test))\n",
        "\n"
      ],
      "execution_count": 199,
      "outputs": [
        {
          "output_type": "stream",
          "text": [
            "Size of Train Data 1086678\n",
            "Size of Test Data 535230\n"
          ],
          "name": "stdout"
        }
      ]
    },
    {
      "cell_type": "code",
      "metadata": {
        "id": "M312Ki78hdfd",
        "colab_type": "code",
        "colab": {}
      },
      "source": [
        "LR=LogisticRegression()"
      ],
      "execution_count": 0,
      "outputs": []
    },
    {
      "cell_type": "code",
      "metadata": {
        "id": "HZ6GmLRfjMLQ",
        "colab_type": "code",
        "outputId": "a199a568-44a4-4427-c7e4-2b65eafa7559",
        "colab": {
          "base_uri": "https://localhost:8080/",
          "height": 105
        }
      },
      "source": [
        "model=LR.fit(X_train, y_train)"
      ],
      "execution_count": 201,
      "outputs": [
        {
          "output_type": "stream",
          "text": [
            "/usr/local/lib/python3.6/dist-packages/sklearn/linear_model/logistic.py:432: FutureWarning: Default solver will be changed to 'lbfgs' in 0.22. Specify a solver to silence this warning.\n",
            "  FutureWarning)\n",
            "/usr/local/lib/python3.6/dist-packages/sklearn/utils/validation.py:724: DataConversionWarning: A column-vector y was passed when a 1d array was expected. Please change the shape of y to (n_samples, ), for example using ravel().\n",
            "  y = column_or_1d(y, warn=True)\n"
          ],
          "name": "stderr"
        }
      ]
    },
    {
      "cell_type": "markdown",
      "metadata": {
        "id": "1WBwc-12hx0b",
        "colab_type": "text"
      },
      "source": [
        "Caculating Prediction Score and y_pred(Predicted Output)"
      ]
    },
    {
      "cell_type": "code",
      "metadata": {
        "id": "uZb0x5ASlSCI",
        "colab_type": "code",
        "outputId": "b6b5a031-b8d0-4b41-dac1-86d2586ed09a",
        "colab": {
          "base_uri": "https://localhost:8080/",
          "height": 34
        }
      },
      "source": [
        "y_pred=model.predict(X_test)\n",
        "y_pred=pd.DataFrame(y_pred)\n",
        "score=LR.score(X_test,y_test)\n",
        "score"
      ],
      "execution_count": 202,
      "outputs": [
        {
          "output_type": "execute_result",
          "data": {
            "text/plain": [
              "0.8812846813519422"
            ]
          },
          "metadata": {
            "tags": []
          },
          "execution_count": 202
        }
      ]
    },
    {
      "cell_type": "code",
      "metadata": {
        "id": "Z2jIq_3Wl_LN",
        "colab_type": "code",
        "outputId": "b0d013d2-a673-4e0a-c004-293eaf0a5667",
        "colab": {
          "base_uri": "https://localhost:8080/",
          "height": 51
        }
      },
      "source": [
        "cm = metrics.confusion_matrix(y_test, y_pred)\n",
        "print(cm)"
      ],
      "execution_count": 203,
      "outputs": [
        {
          "output_type": "stream",
          "text": [
            "[[37512  3917]\n",
            " [ 3143 14898]]\n"
          ],
          "name": "stdout"
        }
      ]
    },
    {
      "cell_type": "code",
      "metadata": {
        "id": "aLKMjfOjo06i",
        "colab_type": "code",
        "outputId": "8366671e-34be-4749-c1cd-33c16930ac56",
        "colab": {
          "base_uri": "https://localhost:8080/",
          "height": 520
        }
      },
      "source": [
        "plt.figure(figsize=(9,9))\n",
        "sns.heatmap(cm, annot=True, fmt=\".3f\", linewidths=.5, square = True, cmap = 'Blues_r');\n",
        "plt.ylabel('Actual label');\n",
        "plt.xlabel('Predicted label');\n",
        "all_sample_title = 'Accuracy Score: {0}'.format(score)\n",
        "plt.title(all_sample_title, size = 15);"
      ],
      "execution_count": 204,
      "outputs": [
        {
          "output_type": "display_data",
          "data": {
            "image/png": "[encoded data removed]",
            "text/plain": [
              "<Figure size 648x648 with 2 Axes>"
            ]
          },
          "metadata": {
            "tags": []
          }
        }
      ]
    },
    {
      "cell_type": "code",
      "metadata": {
        "id": "3Y8Pl3u6pKrl",
        "colab_type": "code",
        "colab": {
          "base_uri": "https://localhost:8080/",
          "height": 170
        },
        "outputId": "c9841232-50a8-49b2-d4b4-34865c7193a6"
      },
      "source": [
        "from sklearn.metrics import classification_report\n",
        "print(classification_report(y_test, y_pred))\n"
      ],
      "execution_count": 213,
      "outputs": [
        {
          "output_type": "stream",
          "text": [
            "              precision    recall  f1-score   support\n",
            "\n",
            "           0       0.92      0.91      0.91     41429\n",
            "           1       0.79      0.83      0.81     18041\n",
            "\n",
            "    accuracy                           0.88     59470\n",
            "   macro avg       0.86      0.87      0.86     59470\n",
            "weighted avg       0.88      0.88      0.88     59470\n",
            "\n"
          ],
          "name": "stdout"
        }
      ]
    },
    {
      "cell_type": "code",
      "metadata": {
        "id": "fIaZy79ApKoO",
        "colab_type": "code",
        "colab": {}
      },
      "source": [
        ""
      ],
      "execution_count": 0,
      "outputs": []
    },
    {
      "cell_type": "markdown",
      "metadata": {
        "id": "z5mOIME-phk6",
        "colab_type": "text"
      },
      "source": [
        "NOW we will predict in test data for that we are converting character into corresponding integer for calculation\n",
        "\n",
        "*   List item\n",
        "*   List item\n",
        "\n"
      ]
    },
    {
      "cell_type": "code",
      "metadata": {
        "id": "yNUdXgcmpfok",
        "colab_type": "code",
        "outputId": "30d08e2d-f727-4be7-e7e1-5cbc6dbec788",
        "colab": {
          "base_uri": "https://localhost:8080/",
          "height": 187
        }
      },
      "source": [
        "pd_data=pd.read_csv(\"Test Data.csv\")#Prediction Data\n",
        "pd_data.Gender[pd_data.Gender=='M']=1\n",
        "pd_data.Gender[pd_data.Gender=='F']=2\n"
      ],
      "execution_count": 205,
      "outputs": [
        {
          "output_type": "stream",
          "text": [
            "/usr/local/lib/python3.6/dist-packages/ipykernel_launcher.py:2: SettingWithCopyWarning: \n",
            "A value is trying to be set on a copy of a slice from a DataFrame\n",
            "\n",
            "See the caveats in the documentation: http://pandas.pydata.org/pandas-docs/stable/user_guide/indexing.html#returning-a-view-versus-a-copy\n",
            "  \n",
            "/usr/local/lib/python3.6/dist-packages/ipykernel_launcher.py:3: SettingWithCopyWarning: \n",
            "A value is trying to be set on a copy of a slice from a DataFrame\n",
            "\n",
            "See the caveats in the documentation: http://pandas.pydata.org/pandas-docs/stable/user_guide/indexing.html#returning-a-view-versus-a-copy\n",
            "  This is separate from the ipykernel package so we can avoid doing imports until\n"
          ],
          "name": "stderr"
        }
      ]
    },
    {
      "cell_type": "markdown",
      "metadata": {
        "id": "Dry99j1HhXwh",
        "colab_type": "text"
      },
      "source": [
        "Breaking Orignal Data into Patient_id and Rest for Calculation"
      ]
    },
    {
      "cell_type": "code",
      "metadata": {
        "id": "eNaMsd1Wq-Ts",
        "colab_type": "code",
        "colab": {}
      },
      "source": [
        "pd_data_test=pd_data[['Age','Gender','Prescription_period','Diabetes','Alcoholism','HyperTension','Smokes','Tuberculosis','Sms_Reminder']]\n",
        "pd_data_patientid=pd.DataFrame(pd_data['patient_id'],columns=['patient_id'])"
      ],
      "execution_count": 0,
      "outputs": []
    },
    {
      "cell_type": "markdown",
      "metadata": {
        "id": "7w4dZQEJhOF_",
        "colab_type": "text"
      },
      "source": [
        "Using Pretrained Model Calculating Adherence of Test Data"
      ]
    },
    {
      "cell_type": "code",
      "metadata": {
        "id": "dP_haMy8rbL5",
        "colab_type": "code",
        "colab": {
          "base_uri": "https://localhost:8080/",
          "height": 34
        },
        "outputId": "d809bf23-2dff-4e83-fd7b-79da1e5598db"
      },
      "source": [
        "pd_data_pred=model.predict(pd_data_test)\n",
        "pd_data_pred_score=model.score(pd_data_test,pd_data_pred)\n",
        "pd_data_pred_score\n"
      ],
      "execution_count": 207,
      "outputs": [
        {
          "output_type": "execute_result",
          "data": {
            "text/plain": [
              "1.0"
            ]
          },
          "metadata": {
            "tags": []
          },
          "execution_count": 207
        }
      ]
    },
    {
      "cell_type": "code",
      "metadata": {
        "id": "2r4Gg7sgk2yb",
        "colab_type": "code",
        "colab": {}
      },
      "source": [
        "\n",
        "pd_data_pred=pd.DataFrame(pd_data_pred,columns=['Adherence'])"
      ],
      "execution_count": 0,
      "outputs": []
    },
    {
      "cell_type": "markdown",
      "metadata": {
        "id": "g3Om5VB8hDPl",
        "colab_type": "text"
      },
      "source": [
        "Rolling back Gender[1,2] back  into Male and Female "
      ]
    },
    {
      "cell_type": "code",
      "metadata": {
        "id": "IFTVFmYdeAGj",
        "colab_type": "code",
        "colab": {
          "base_uri": "https://localhost:8080/",
          "height": 357
        },
        "outputId": "64b6186a-4bea-4a95-ac44-085405745ae8"
      },
      "source": [
        "  pd_data_test.Gender[pd_data_test.Gender==1]='M'\n",
        "  pd_data_test.Gender[pd_data_test.Gender==2]='F'"
      ],
      "execution_count": 209,
      "outputs": [
        {
          "output_type": "stream",
          "text": [
            "/usr/local/lib/python3.6/dist-packages/ipykernel_launcher.py:1: SettingWithCopyWarning: \n",
            "A value is trying to be set on a copy of a slice from a DataFrame\n",
            "\n",
            "See the caveats in the documentation: http://pandas.pydata.org/pandas-docs/stable/user_guide/indexing.html#returning-a-view-versus-a-copy\n",
            "  \"\"\"Entry point for launching an IPython kernel.\n",
            "/usr/local/lib/python3.6/dist-packages/pandas/core/generic.py:9114: SettingWithCopyWarning: \n",
            "A value is trying to be set on a copy of a slice from a DataFrame\n",
            "\n",
            "See the caveats in the documentation: http://pandas.pydata.org/pandas-docs/stable/user_guide/indexing.html#returning-a-view-versus-a-copy\n",
            "  self._update_inplace(new_data)\n",
            "/usr/local/lib/python3.6/dist-packages/IPython/core/interactiveshell.py:2882: SettingWithCopyWarning: \n",
            "A value is trying to be set on a copy of a slice from a DataFrame\n",
            "\n",
            "See the caveats in the documentation: http://pandas.pydata.org/pandas-docs/stable/user_guide/indexing.html#returning-a-view-versus-a-copy\n",
            "  exec(code_obj, self.user_global_ns, self.user_ns)\n",
            "/usr/local/lib/python3.6/dist-packages/ipykernel_launcher.py:2: SettingWithCopyWarning: \n",
            "A value is trying to be set on a copy of a slice from a DataFrame\n",
            "\n",
            "See the caveats in the documentation: http://pandas.pydata.org/pandas-docs/stable/user_guide/indexing.html#returning-a-view-versus-a-copy\n",
            "  \n"
          ],
          "name": "stderr"
        }
      ]
    },
    {
      "cell_type": "markdown",
      "metadata": {
        "id": "sMaHeHXrg6xl",
        "colab_type": "text"
      },
      "source": [
        "Rolling back 0 and 1 back to No and Yes"
      ]
    },
    {
      "cell_type": "code",
      "metadata": {
        "id": "oYUiB2oDX5Ow",
        "colab_type": "code",
        "colab": {}
      },
      "source": [
        "pd_data_pred.Adherence[pd_data_pred.Adherence==0]='No'\n",
        "pd_data_pred.Adherence[pd_data_pred.Adherence==1]='Yes'"
      ],
      "execution_count": 0,
      "outputs": []
    },
    {
      "cell_type": "markdown",
      "metadata": {
        "id": "mA8ZRnuGgzOR",
        "colab_type": "text"
      },
      "source": [
        "#Merging all the Data into one File"
      ]
    },
    {
      "cell_type": "markdown",
      "metadata": {
        "id": "HLETZ3gfg0xG",
        "colab_type": "text"
      },
      "source": [
        ""
      ]
    },
    {
      "cell_type": "code",
      "metadata": {
        "id": "76zMi0sV5yde",
        "colab_type": "code",
        "colab": {}
      },
      "source": [
        "final_data=pd.concat((pd_data_patientid, pd_data_test,pd_data_pred),axis=1)"
      ],
      "execution_count": 0,
      "outputs": []
    },
    {
      "cell_type": "code",
      "metadata": {
        "id": "QkhtxePa6zGj",
        "colab_type": "code",
        "colab": {}
      },
      "source": [
        "final_data.to_csv('FinalData.csv')"
      ],
      "execution_count": 0,
      "outputs": []
    }
  ]
}